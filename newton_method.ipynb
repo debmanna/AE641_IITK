{
 "cells": [
  {
   "cell_type": "markdown",
   "metadata": {},
   "source": [
    "* Applying __Newton method__ for finding roots of $f(E) = 0$ where $f(E) = E- e\\sin(E)-M$  \n",
    "-- M will be mentioned"
   ]
  },
  {
   "cell_type": "code",
   "execution_count": 102,
   "metadata": {},
   "outputs": [],
   "source": [
    "# imported MATH module Required for the calculation to work\n",
    "import math as ma\n",
    "import numpy as np"
   ]
  },
  {
   "cell_type": "code",
   "execution_count": 103,
   "metadata": {},
   "outputs": [],
   "source": [
    "# Kepler's Equation (Elliptic Orbit)\n",
    "f = lambda E, e, M: E - e * ma.sin(E) - M\n",
    "\n",
    "# \\mew_earth = G* Mass_earth \n",
    "mew_earth = 398600.4 # in km^3 s^-2\n",
    "\n",
    "# semi major axis\n",
    "a = 6877.25076 # in km\n",
    "\n",
    "# mean motion\n",
    "n = ma.sqrt(mew_earth/a**3) # rad/s"
   ]
  },
  {
   "cell_type": "code",
   "execution_count": 104,
   "metadata": {},
   "outputs": [
    {
     "data": {
      "text/plain": [
       "0.0007394436792160106"
      ]
     },
     "execution_count": 104,
     "metadata": {},
     "output_type": "execute_result"
    }
   ],
   "source": [
    "n"
   ]
  },
  {
   "cell_type": "code",
   "execution_count": 105,
   "metadata": {},
   "outputs": [
    {
     "name": "stdout",
     "output_type": "stream",
     "text": [
      "mew_planet = 398600.4\n",
      "Semi major axis, a =9000\n",
      "Eccentricity, e=0.2\n",
      "True anomaly has to be calculated 1800 seconds after crossing the perigee\n",
      "\n",
      "Iterations Count :::: f(E) :::: f'(E) :::: $\\Delta E$\n",
      "\n",
      "Iterations 0 :::: f( 2.2183310376 )= -0.1595146675 :::: 1.1206443984 :::: 0.142341913\n",
      "Iterations 1 :::: f( 2.3606729507 )= 0.0015553228 :::: 1.1420532859 :::: -0.0013618654\n",
      "Iterations 2 :::: f( 2.3593110853 )= 1.306e-07 :::: 1.1418614218 :::: -1.144e-07\n",
      "Iterations 3 :::: f( 2.3593109709 )= 0.0 :::: 1.1418614057 :::: -0.0\n",
      "\n",
      "Answer\n",
      " E (in radian) =  2.3593109709 \n",
      " E (in degrees) =  135.1785611913\n"
     ]
    }
   ],
   "source": [
    "# Time of Periapse\n",
    "t0 = -1200 # in sec\n",
    "\n",
    "# Time at which you want to know the Eccentric Anomaly,E(t)\n",
    "t = 30*60 # in sec\n",
    "\n",
    "# Mean Anomaly\n",
    "M = n*(t-t0) #in rad\n",
    "\n",
    "# Orbital eccentricity\n",
    "e = 0.2\n",
    "\n",
    "#start with guess !! NOTE E is in RADIAN NOT DEGREES !! \n",
    "E_guess = M\n",
    "delta_E = 0\n",
    "\n",
    "#set a tolerance level that you want\n",
    "tolerance = 10**-10\n",
    "\n",
    "#count variable\n",
    "itr = 0\n",
    "print(\"mew_planet = {}\\nSemi major axis, a ={}\\nEccentricity, e={}\\nTrue anomaly has to be calculated {} seconds after crossing the perigee\"\n",
    "      .format(mew_earth,a,e,t))\n",
    "print(\"\\nIterations Count :::: f(E) :::: f'(E) :::: $\\Delta E$\\n\")\n",
    "\n",
    "while True:\n",
    "    \n",
    "    delta_E = (-E_guess+e*ma.sin(E_guess)+M)/(1-e*ma.cos(E_guess))\n",
    "    \n",
    "    print(\"Iterations\",itr,\"::::\",\n",
    "          \"f(\",round(E_guess, 10),\")=\",round(f(E_guess, e, M), 10),\n",
    "          \"::::\",round(1-e*ma.cos(E_guess), 10),\n",
    "          \"::::\",round(delta_E, 10))\n",
    "    \n",
    "    if abs(f(E_guess, e, M)) <= tolerance:\n",
    "        break\n",
    "    \n",
    "    E_guess = E_guess + delta_E\n",
    "    \n",
    "    itr = itr + 1\n",
    "    \n",
    "\n",
    "print(\"\\nAnswer\\n E (in radian) = \",round(E_guess, 10), \"\\n E (in degrees) = \", round(ma.degrees(E_guess), 10))"
   ]
  },
  {
   "cell_type": "code",
   "execution_count": 106,
   "metadata": {},
   "outputs": [
    {
     "name": "stdout",
     "output_type": "stream",
     "text": [
      "\n",
      "Answer\n",
      " Theta (in radian) =  2.4920119397 \n",
      " Theta (in degrees) =  142.781766641\n"
     ]
    }
   ],
   "source": [
    "#E: Eccentric anomaly\n",
    "#Theta : True anomaly\n",
    "\n",
    "Theta = 2* np.arctan(ma.sqrt((1+e)/(1-e)) * np.tan(E_guess/2))\n",
    "\n",
    "print(\"\\nAnswer\\n Theta (in radian) = \",round(Theta, 10), \"\\n Theta (in degrees) = \", round(ma.degrees(Theta), 10))"
   ]
  }
 ],
 "metadata": {
  "kernelspec": {
   "display_name": "Python 3",
   "language": "python",
   "name": "python3"
  },
  "language_info": {
   "codemirror_mode": {
    "name": "ipython",
    "version": 3
   },
   "file_extension": ".py",
   "mimetype": "text/x-python",
   "name": "python",
   "nbconvert_exporter": "python",
   "pygments_lexer": "ipython3",
   "version": "3.10.6"
  },
  "orig_nbformat": 4,
  "vscode": {
   "interpreter": {
    "hash": "916dbcbb3f70747c44a77c7bcd40155683ae19c65e1c03b4aa3499c5328201f1"
   }
  }
 },
 "nbformat": 4,
 "nbformat_minor": 2
}
