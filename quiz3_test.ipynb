{
 "cells": [
  {
   "cell_type": "code",
   "execution_count": 439,
   "metadata": {},
   "outputs": [],
   "source": [
    "import numpy as np"
   ]
  },
  {
   "attachments": {},
   "cell_type": "markdown",
   "metadata": {},
   "source": [
    "### Classical Orbital elements"
   ]
  },
  {
   "cell_type": "code",
   "execution_count": 440,
   "metadata": {},
   "outputs": [
    {
     "name": "stdout",
     "output_type": "stream",
     "text": [
      "r = 7211.102550927979 Km ; v = 7.762087348130012 Km/s ; a = 7924.1682041538825 Km\n"
     ]
    }
   ],
   "source": [
    "# \\mew_earth = G* Mass_earth \n",
    "mew_earth = 398600.4 # in km^3 s^-2\n",
    "\n",
    "I_vec = [1, 0, 0]\n",
    "J_vec = [0, 1, 0]\n",
    "K_vec = [0, 0, 1]\n",
    "\n",
    "r_vec = np.array([-6000, 4000, 0]) #in km\n",
    "v_vec = np.array([2, 0, 7.5]) #in km/s\n",
    "\n",
    "r = np.linalg.norm(r_vec)\n",
    "v = np.linalg.norm(v_vec)\n",
    "a = -mew_earth/2 /(v**2/2 - mew_earth/r)\n",
    "\n",
    "print(f\"r = {r} Km ; v = {v} Km/s ; a = {a} Km\")"
   ]
  },
  {
   "cell_type": "code",
   "execution_count": 441,
   "metadata": {},
   "outputs": [
    {
     "name": "stdout",
     "output_type": "stream",
     "text": [
      "[30000. 45000. -8000.] 54671.74773134658\n"
     ]
    }
   ],
   "source": [
    "# angular momentum, h in km^2/s\n",
    "h_vec = np.cross(r_vec, v_vec)\n",
    "h = np.linalg.norm(h_vec)\n",
    "print(h_vec, h)"
   ]
  },
  {
   "cell_type": "code",
   "execution_count": 442,
   "metadata": {},
   "outputs": [
    {
     "name": "stdout",
     "output_type": "stream",
     "text": [
      "[-0.01466235  0.04991535  0.22579004] 0.23170599688792248\n"
     ]
    }
   ],
   "source": [
    "# eccentricity\n",
    "e_vec = np.cross(v_vec, h_vec)/mew_earth - r_vec/r\n",
    "e = np.linalg.norm(e_vec)\n",
    "print(e_vec, e)"
   ]
  },
  {
   "cell_type": "code",
   "execution_count": 443,
   "metadata": {},
   "outputs": [
    {
     "data": {
      "text/plain": [
       "array([-0.83205029,  0.5547002 ,  0.        ])"
      ]
     },
     "execution_count": 443,
     "metadata": {},
     "output_type": "execute_result"
    }
   ],
   "source": [
    "# ascending Node vector\n",
    "temp = np.cross(K_vec, h_vec)\n",
    "\n",
    "n_vec = temp/np.linalg.norm(temp)\n",
    "n_vec"
   ]
  },
  {
   "cell_type": "code",
   "execution_count": 444,
   "metadata": {},
   "outputs": [
    {
     "name": "stdout",
     "output_type": "stream",
     "text": [
      "-0.8320502943378437 0.5547001962252291 \n",
      "\n",
      "2.5535900500422257 146.30993247402023\n",
      "0.5880026035475676 33.69006752597979\n"
     ]
    }
   ],
   "source": [
    "# Omega, Right ascession of the ascending node\n",
    "temp1 = np.dot(I_vec,n_vec)\n",
    "temp2 = np.dot(J_vec, n_vec)\n",
    "\n",
    "Omega1 = np.arccos(temp1)\n",
    "Omega2 = np.arcsin(temp2)\n",
    "\n",
    "print(temp1, temp2,\"\\n\")\n",
    "print(Omega1, np.degrees(Omega1))\n",
    "print(Omega2, np.degrees(Omega2))\n",
    "\n",
    "Omega = np.deg2rad(146.310) #select values suitably"
   ]
  },
  {
   "cell_type": "code",
   "execution_count": 445,
   "metadata": {},
   "outputs": [
    {
     "name": "stdout",
     "output_type": "stream",
     "text": [
      "-0.14632786278045254 0.9892361480324631 \n",
      "\n",
      "1.717651477687257 98.41418034588911\n",
      "1.4239411759025369 81.58581965411092\n"
     ]
    }
   ],
   "source": [
    "# i, Orbital Inclination\n",
    "temp1 = np.dot(K_vec, h_vec/h)\n",
    "temp2 = np.linalg.norm(np.cross(K_vec, h_vec/h))\n",
    "\n",
    "i1 = np.arccos(temp1)\n",
    "i2 = np.arcsin(temp2)\n",
    "\n",
    "print(temp1, temp2,\"\\n\")\n",
    "print(i1, np.degrees(i1))\n",
    "print(i2, np.degrees(i2))\n",
    "\n",
    "i = np.deg2rad(98.414) #select value suitably"
   ]
  },
  {
   "cell_type": "code",
   "execution_count": 446,
   "metadata": {},
   "outputs": [
    {
     "name": "stdout",
     "output_type": "stream",
     "text": [
      "0.1721486378091282 0.9850709855134614 \n",
      "\n",
      "1.3977858705056814 80.08723104299536\n",
      "1.3977858705056827 80.08723104299544\n"
     ]
    }
   ],
   "source": [
    "# omega, argument of periapsis\n",
    "temp1 = np.dot(n_vec, e_vec/e)\n",
    "temp2 = np.dot(h_vec/h, np.cross(n_vec, e_vec/e))\n",
    "\n",
    "omega1 = np.arccos(temp1)\n",
    "omega2 = np.arcsin(temp2)\n",
    "\n",
    "print(temp1, temp2,\"\\n\")\n",
    "print(omega1, np.degrees(omega1))\n",
    "print(omega2, np.degrees(omega2))\n",
    "\n",
    "omega = np.deg2rad(80.087) #select value suitably"
   ]
  },
  {
   "cell_type": "code",
   "execution_count": 447,
   "metadata": {},
   "outputs": [
    {
     "data": {
      "text/plain": [
       "0.1721486378091282"
      ]
     },
     "execution_count": 447,
     "metadata": {},
     "output_type": "execute_result"
    }
   ],
   "source": [
    "# calculating delta_t = t-t0\n",
    "\n",
    "# value of cos(Theta)\n",
    "\n",
    "val1 = np.dot(r_vec/r, e_vec/e)\n",
    "val1"
   ]
  },
  {
   "cell_type": "code",
   "execution_count": 448,
   "metadata": {},
   "outputs": [
    {
     "data": {
      "text/plain": [
       "-0.21438828423859346"
      ]
     },
     "execution_count": 448,
     "metadata": {},
     "output_type": "execute_result"
    }
   ],
   "source": [
    "# value of sin(phi)\n",
    "\n",
    "val2 = np.dot(v_vec/v, r_vec/r)\n",
    "val2"
   ]
  },
  {
   "cell_type": "code",
   "execution_count": 449,
   "metadata": {},
   "outputs": [
    {
     "data": {
      "text/plain": [
       "279.91276895700463"
      ]
     },
     "execution_count": 449,
     "metadata": {},
     "output_type": "execute_result"
    }
   ],
   "source": [
    "########################\n",
    "# set suitable theta\n",
    "\n",
    "Theta = np.arccos(val1)\n",
    "Theta = 360-np.degrees(Theta)\n",
    "Theta"
   ]
  },
  {
   "cell_type": "code",
   "execution_count": 450,
   "metadata": {},
   "outputs": [
    {
     "data": {
      "text/plain": [
       "-157.5448359593848"
      ]
     },
     "execution_count": 450,
     "metadata": {},
     "output_type": "execute_result"
    }
   ],
   "source": [
    "# Finding E\n",
    "\n",
    "E = 2* np.arctan(np.sqrt((1-e)/(1+e)) * np.tan(Theta/2))\n",
    "np.degrees(E)"
   ]
  },
  {
   "cell_type": "code",
   "execution_count": 451,
   "metadata": {},
   "outputs": [
    {
     "data": {
      "text/plain": [
       "-2973.273570292116"
      ]
     },
     "execution_count": 451,
     "metadata": {},
     "output_type": "execute_result"
    }
   ],
   "source": [
    "n = np.sqrt(mew_earth/a**3)\n",
    "\n",
    "# delta_T in seconds\n",
    "delta_T = (E-e*np.sin(E))/n\n",
    "\n",
    "delta_T"
   ]
  },
  {
   "attachments": {},
   "cell_type": "markdown",
   "metadata": {},
   "source": [
    "### Complete set of Orbital Variables"
   ]
  },
  {
   "cell_type": "code",
   "execution_count": 452,
   "metadata": {},
   "outputs": [
    {
     "name": "stdout",
     "output_type": "stream",
     "text": [
      "\\delta = 0.0 in rad, 0.0 in degrees\n"
     ]
    }
   ],
   "source": [
    "# Declination of celetial Latitude delta\n",
    "\n",
    "delta = np.arcsin(np.dot(r_vec, K_vec)/r)\n",
    "\n",
    "print(f\"\\delta = {delta} in rad, {np.degrees(delta)} in degrees\")"
   ]
  },
  {
   "cell_type": "code",
   "execution_count": 453,
   "metadata": {},
   "outputs": [
    {
     "name": "stdout",
     "output_type": "stream",
     "text": [
      "0.5547001962252291 -0.8320502943378436 \n",
      "\n",
      "0.5880026035475676 33.69006752597979\n",
      "2.5535900500422257 146.30993247402023\n"
     ]
    }
   ],
   "source": [
    "# Celestial longitude , lamda\n",
    "temp1 = np.dot(r_vec/r, J_vec/np.cos(delta))\n",
    "temp2 = np.dot(r_vec/r, I_vec/np.cos(delta))\n",
    "\n",
    "lamda1 = np.arcsin(temp1)\n",
    "lamda2 = np.arccos(temp2)\n",
    "\n",
    "print(temp1, temp2,\"\\n\")\n",
    "print(lamda1, np.degrees(lamda1))\n",
    "print(lamda2, np.degrees(lamda2))\n",
    "\n",
    "########## select the angle suitably\n",
    "\n",
    "# fix suitable value\n",
    "Lamda = np.deg2rad(146.310)"
   ]
  },
  {
   "cell_type": "code",
   "execution_count": 454,
   "metadata": {},
   "outputs": [],
   "source": [
    "# Elementray Rotation matrices\n",
    "\n",
    "# Note: Theta here is in radians\n",
    "\n",
    "def C1(theta):\n",
    "  return np.matrix([\n",
    "                   [ 1, 0             , 0           ],\n",
    "                   [ 0, np.cos(theta) , np.sin(theta)],\n",
    "                   [ 0, -np.sin(theta), np.cos(theta)]\n",
    "                   ])\n",
    "  \n",
    "def C2(theta):\n",
    "  return np.matrix([\n",
    "                   [ np.cos(theta), 0,-np.sin(theta)],\n",
    "                   [ 0            , 1, 0            ],\n",
    "                   [ np.sin(theta), 0, np.cos(theta)]\n",
    "                   ])\n",
    "  \n",
    "def C3(theta):\n",
    "  return np.matrix([\n",
    "                   [ np.cos(theta), np.sin(theta), 0 ],\n",
    "                   [-np.sin(theta), np.cos(theta) , 0 ],\n",
    "                   [ 0            , 0             , 1 ]\n",
    "                   ])"
   ]
  },
  {
   "cell_type": "code",
   "execution_count": 455,
   "metadata": {},
   "outputs": [
    {
     "data": {
      "text/plain": [
       "matrix([[-0.83205095,  0.55469922,  0.        ],\n",
       "        [-0.55469922, -0.83205095,  0.        ],\n",
       "        [ 0.        ,  0.        ,  1.        ]])"
      ]
     },
     "execution_count": 455,
     "metadata": {},
     "output_type": "execute_result"
    }
   ],
   "source": [
    "C_LH = C2(-np.pi/2)*C2(np.pi/2 - delta)*C3(Lamda)\n",
    "C_LH"
   ]
  },
  {
   "cell_type": "code",
   "execution_count": 456,
   "metadata": {},
   "outputs": [
    {
     "data": {
      "text/plain": [
       "array([-1.6641019 , -1.10939843,  7.5       ])"
      ]
     },
     "execution_count": 456,
     "metadata": {},
     "output_type": "execute_result"
    }
   ],
   "source": [
    "v_LH = C_LH*np.reshape(v_vec,(3,1))\n",
    "v_LH = np.asarray(v_LH).reshape(-1)\n",
    "v_LH\n"
   ]
  },
  {
   "cell_type": "code",
   "execution_count": 457,
   "metadata": {},
   "outputs": [],
   "source": [
    "i_r = [1, 0, 0]\n",
    "i_lamda = [0, 1, 0]\n",
    "i_delta = [0, 0, 1]"
   ]
  },
  {
   "cell_type": "code",
   "execution_count": 458,
   "metadata": {},
   "outputs": [
    {
     "name": "stdout",
     "output_type": "stream",
     "text": [
      "\\delta = -0.21606568155870215 in rad, -12.379651650931256 in degrees\n"
     ]
    }
   ],
   "source": [
    "# Flight Path angle, phi\n",
    "\n",
    "phi = np.arcsin(np.dot(v_LH/v, i_r))\n",
    "\n",
    "print(f\"\\delta = {phi} in rad, {np.degrees(phi)} in degrees\")"
   ]
  },
  {
   "cell_type": "code",
   "execution_count": 459,
   "metadata": {},
   "outputs": [
    {
     "name": "stdout",
     "output_type": "stream",
     "text": [
      "-0.14632760963699867 0.9892361854774228 \n",
      "\n",
      "-0.14685489499446414 -8.414165684019673\n",
      "0.14685489499446475 8.414165684019709\n"
     ]
    }
   ],
   "source": [
    "# Velocity Azimuth , shi\n",
    "temp1 = np.dot(v_LH/v, i_lamda/np.cos(phi))\n",
    "temp2 = np.dot(v_LH/v, i_delta/np.cos(phi))\n",
    "\n",
    "shi1 = np.arcsin(temp1)\n",
    "shi2 = np.arccos(temp2)\n",
    "\n",
    "print(temp1, temp2,\"\\n\")\n",
    "print(shi1, np.degrees(shi1))\n",
    "print(shi2, np.degrees(shi2))\n",
    "\n",
    "shi = np.deg2rad(219.105) #select value suitably"
   ]
  },
  {
   "cell_type": "code",
   "execution_count": 460,
   "metadata": {},
   "outputs": [
    {
     "name": "stdout",
     "output_type": "stream",
     "text": [
      "-0.14632474903078882 \n",
      " 1.0 -0.6307435278545224 \n",
      " -0.6307435278545224\n"
     ]
    }
   ],
   "source": [
    "print(np.cos(i),\"\\n\",np.cos(delta), np.sin(shi),\"\\n\",np.cos(delta) * np.sin(shi))"
   ]
  },
  {
   "cell_type": "code",
   "execution_count": 461,
   "metadata": {},
   "outputs": [
    {
     "data": {
      "text/plain": [
       "5729.00852788584"
      ]
     },
     "execution_count": 461,
     "metadata": {},
     "output_type": "execute_result"
    }
   ],
   "source": [
    "r = 6578.14\n",
    "v = np.sqrt(mew_earth/r) - 0.600\n",
    "\n",
    "a = -mew_earth/2 /(v**2/2 - mew_earth/r)\n",
    "a"
   ]
  },
  {
   "cell_type": "code",
   "execution_count": null,
   "metadata": {},
   "outputs": [],
   "source": []
  },
  {
   "cell_type": "code",
   "execution_count": null,
   "metadata": {},
   "outputs": [],
   "source": []
  },
  {
   "cell_type": "code",
   "execution_count": null,
   "metadata": {},
   "outputs": [],
   "source": []
  },
  {
   "cell_type": "code",
   "execution_count": null,
   "metadata": {},
   "outputs": [],
   "source": []
  }
 ],
 "metadata": {
  "kernelspec": {
   "display_name": "Python 3",
   "language": "python",
   "name": "python3"
  },
  "language_info": {
   "codemirror_mode": {
    "name": "ipython",
    "version": 3
   },
   "file_extension": ".py",
   "mimetype": "text/x-python",
   "name": "python",
   "nbconvert_exporter": "python",
   "pygments_lexer": "ipython3",
   "version": "3.10.6"
  },
  "orig_nbformat": 4,
  "vscode": {
   "interpreter": {
    "hash": "916dbcbb3f70747c44a77c7bcd40155683ae19c65e1c03b4aa3499c5328201f1"
   }
  }
 },
 "nbformat": 4,
 "nbformat_minor": 2
}
